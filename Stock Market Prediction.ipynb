{
 "cells": [
  {
   "cell_type": "markdown",
   "id": "a8009c86",
   "metadata": {},
   "source": [
    "### Stock Market Prediction And Forecasting Using Stacked LSTM"
   ]
  },
  {
   "cell_type": "markdown",
   "id": "9a9b1969",
   "metadata": {},
   "source": [
    "Download the data using the below website\n",
    "\n",
    "https://pandas-datareader.readthedocs.io/en/latest/remote_data.html\n",
    "\n",
    "open any sources signup and login you will get an API key which you will be using to get the data. You can get any company data"
   ]
  },
  {
   "cell_type": "code",
   "execution_count": 1,
   "id": "4260f14f",
   "metadata": {},
   "outputs": [],
   "source": [
    "### Data Collection\n",
    "import pandas_datareader as pdr\n",
    "key=\"\" #insert an API key to get the data."
   ]
  },
  {
   "cell_type": "code",
   "execution_count": 2,
   "id": "7c586b20",
   "metadata": {},
   "outputs": [],
   "source": [
    "df = pdr.get_data_tiingo('AAPL', api_key=key)"
   ]
  },
  {
   "cell_type": "code",
   "execution_count": 3,
   "id": "3733ada4",
   "metadata": {},
   "outputs": [],
   "source": [
    "#Saving the data\n",
    "df.to_csv('AAPL.csv')"
   ]
  },
  {
   "cell_type": "code",
   "execution_count": 11,
   "id": "d9bb87c2",
   "metadata": {},
   "outputs": [],
   "source": [
    "import pandas as pd\n",
    "import numpy as np\n",
    "df = pd.read_csv('AAPL.csv')"
   ]
  },
  {
   "cell_type": "code",
   "execution_count": 7,
   "id": "674cafee",
   "metadata": {},
   "outputs": [
    {
     "data": {
      "text/html": [
       "<div>\n",
       "<style scoped>\n",
       "    .dataframe tbody tr th:only-of-type {\n",
       "        vertical-align: middle;\n",
       "    }\n",
       "\n",
       "    .dataframe tbody tr th {\n",
       "        vertical-align: top;\n",
       "    }\n",
       "\n",
       "    .dataframe thead th {\n",
       "        text-align: right;\n",
       "    }\n",
       "</style>\n",
       "<table border=\"1\" class=\"dataframe\">\n",
       "  <thead>\n",
       "    <tr style=\"text-align: right;\">\n",
       "      <th></th>\n",
       "      <th>symbol</th>\n",
       "      <th>date</th>\n",
       "      <th>close</th>\n",
       "      <th>high</th>\n",
       "      <th>low</th>\n",
       "      <th>open</th>\n",
       "      <th>volume</th>\n",
       "      <th>adjClose</th>\n",
       "      <th>adjHigh</th>\n",
       "      <th>adjLow</th>\n",
       "      <th>adjOpen</th>\n",
       "      <th>adjVolume</th>\n",
       "      <th>divCash</th>\n",
       "      <th>splitFactor</th>\n",
       "    </tr>\n",
       "  </thead>\n",
       "  <tbody>\n",
       "    <tr>\n",
       "      <th>0</th>\n",
       "      <td>AAPL</td>\n",
       "      <td>2016-10-31 00:00:00+00:00</td>\n",
       "      <td>113.54</td>\n",
       "      <td>114.23</td>\n",
       "      <td>113.20</td>\n",
       "      <td>113.65</td>\n",
       "      <td>26419398</td>\n",
       "      <td>26.615795</td>\n",
       "      <td>26.777543</td>\n",
       "      <td>26.536093</td>\n",
       "      <td>26.641581</td>\n",
       "      <td>105677592</td>\n",
       "      <td>0.00</td>\n",
       "      <td>1.0</td>\n",
       "    </tr>\n",
       "    <tr>\n",
       "      <th>1</th>\n",
       "      <td>AAPL</td>\n",
       "      <td>2016-11-01 00:00:00+00:00</td>\n",
       "      <td>111.49</td>\n",
       "      <td>113.77</td>\n",
       "      <td>110.53</td>\n",
       "      <td>113.46</td>\n",
       "      <td>43825812</td>\n",
       "      <td>26.135238</td>\n",
       "      <td>26.669711</td>\n",
       "      <td>25.910197</td>\n",
       "      <td>26.597041</td>\n",
       "      <td>175303248</td>\n",
       "      <td>0.00</td>\n",
       "      <td>1.0</td>\n",
       "    </tr>\n",
       "    <tr>\n",
       "      <th>2</th>\n",
       "      <td>AAPL</td>\n",
       "      <td>2016-11-02 00:00:00+00:00</td>\n",
       "      <td>111.59</td>\n",
       "      <td>112.35</td>\n",
       "      <td>111.23</td>\n",
       "      <td>111.40</td>\n",
       "      <td>28331709</td>\n",
       "      <td>26.158680</td>\n",
       "      <td>26.336838</td>\n",
       "      <td>26.074290</td>\n",
       "      <td>26.114141</td>\n",
       "      <td>113326836</td>\n",
       "      <td>0.00</td>\n",
       "      <td>1.0</td>\n",
       "    </tr>\n",
       "    <tr>\n",
       "      <th>3</th>\n",
       "      <td>AAPL</td>\n",
       "      <td>2016-11-03 00:00:00+00:00</td>\n",
       "      <td>109.83</td>\n",
       "      <td>111.46</td>\n",
       "      <td>109.55</td>\n",
       "      <td>110.98</td>\n",
       "      <td>26932602</td>\n",
       "      <td>25.879723</td>\n",
       "      <td>26.263807</td>\n",
       "      <td>25.813745</td>\n",
       "      <td>26.150703</td>\n",
       "      <td>107730408</td>\n",
       "      <td>0.57</td>\n",
       "      <td>1.0</td>\n",
       "    </tr>\n",
       "    <tr>\n",
       "      <th>4</th>\n",
       "      <td>AAPL</td>\n",
       "      <td>2016-11-04 00:00:00+00:00</td>\n",
       "      <td>108.84</td>\n",
       "      <td>110.25</td>\n",
       "      <td>108.11</td>\n",
       "      <td>108.53</td>\n",
       "      <td>30836997</td>\n",
       "      <td>25.646445</td>\n",
       "      <td>25.978690</td>\n",
       "      <td>25.474432</td>\n",
       "      <td>25.573398</td>\n",
       "      <td>123347988</td>\n",
       "      <td>0.00</td>\n",
       "      <td>1.0</td>\n",
       "    </tr>\n",
       "  </tbody>\n",
       "</table>\n",
       "</div>"
      ],
      "text/plain": [
       "  symbol                       date   close    high     low    open    volume  \\\n",
       "0   AAPL  2016-10-31 00:00:00+00:00  113.54  114.23  113.20  113.65  26419398   \n",
       "1   AAPL  2016-11-01 00:00:00+00:00  111.49  113.77  110.53  113.46  43825812   \n",
       "2   AAPL  2016-11-02 00:00:00+00:00  111.59  112.35  111.23  111.40  28331709   \n",
       "3   AAPL  2016-11-03 00:00:00+00:00  109.83  111.46  109.55  110.98  26932602   \n",
       "4   AAPL  2016-11-04 00:00:00+00:00  108.84  110.25  108.11  108.53  30836997   \n",
       "\n",
       "    adjClose    adjHigh     adjLow    adjOpen  adjVolume  divCash  splitFactor  \n",
       "0  26.615795  26.777543  26.536093  26.641581  105677592     0.00          1.0  \n",
       "1  26.135238  26.669711  25.910197  26.597041  175303248     0.00          1.0  \n",
       "2  26.158680  26.336838  26.074290  26.114141  113326836     0.00          1.0  \n",
       "3  25.879723  26.263807  25.813745  26.150703  107730408     0.57          1.0  \n",
       "4  25.646445  25.978690  25.474432  25.573398  123347988     0.00          1.0  "
      ]
     },
     "execution_count": 7,
     "metadata": {},
     "output_type": "execute_result"
    }
   ],
   "source": [
    "df.head()\n",
    "#df.shape"
   ]
  },
  {
   "cell_type": "code",
   "execution_count": 8,
   "id": "285b163d",
   "metadata": {},
   "outputs": [],
   "source": [
    "df1 = df.reset_index()['close']"
   ]
  },
  {
   "cell_type": "code",
   "execution_count": 9,
   "id": "6d293336",
   "metadata": {},
   "outputs": [
    {
     "data": {
      "text/plain": [
       "0       113.54\n",
       "1       111.49\n",
       "2       111.59\n",
       "3       109.83\n",
       "4       108.84\n",
       "         ...  \n",
       "1253    148.69\n",
       "1254    148.64\n",
       "1255    149.32\n",
       "1256    148.85\n",
       "1257    152.57\n",
       "Name: close, Length: 1258, dtype: float64"
      ]
     },
     "execution_count": 9,
     "metadata": {},
     "output_type": "execute_result"
    }
   ],
   "source": [
    "df1"
   ]
  },
  {
   "cell_type": "code",
   "execution_count": 10,
   "id": "b9814f12",
   "metadata": {},
   "outputs": [
    {
     "data": {
      "text/plain": [
       "[<matplotlib.lines.Line2D at 0x2ec2da2aee0>]"
      ]
     },
     "execution_count": 10,
     "metadata": {},
     "output_type": "execute_result"
    },
    {
     "data": {
      "image/png": "[encoded data removed]",
      "text/plain": [
       "<Figure size 432x288 with 1 Axes>"
      ]
     },
     "metadata": {
      "needs_background": "light"
     },
     "output_type": "display_data"
    }
   ],
   "source": [
    "import matplotlib.pyplot as plt\n",
    "plt.plot(df1)"
   ]
  },
  {
   "cell_type": "markdown",
   "id": "6b483d93",
   "metadata": {},
   "source": [
    "### LSTM are sensitive to the scale of the data. so we apply MinMax scaler"
   ]
  },
  {
   "cell_type": "code",
   "execution_count": 17,
   "id": "89f3a786",
   "metadata": {},
   "outputs": [],
   "source": [
    "from sklearn.preprocessing import MinMaxScaler\n",
    "scaler=MinMaxScaler(feature_range=(0,1))\n",
    "df1=scaler.fit_transform(np.array(df1).reshape(-1,1))"
   ]
  },
  {
   "cell_type": "code",
   "execution_count": 18,
   "id": "4ad7b798",
   "metadata": {},
   "outputs": [
    {
     "data": {
      "text/plain": [
       "array([[0.01955642],\n",
       "       [0.01443629],\n",
       "       [0.01468605],\n",
       "       ...,\n",
       "       [0.10892152],\n",
       "       [0.10774764],\n",
       "       [0.11703881]])"
      ]
     },
     "execution_count": 18,
     "metadata": {},
     "output_type": "execute_result"
    }
   ],
   "source": [
    "df1"
   ]
  },
  {
   "cell_type": "code",
   "execution_count": 19,
   "id": "53a9cbc2",
   "metadata": {},
   "outputs": [],
   "source": [
    "##splitting dataset into train and test split\n",
    "training_size = int(len(df1)*0.65)\n",
    "test_size = len(df1)-training_size\n",
    "train_data, test_data = df1[0:training_size,:], df1[training_size:len(df1),:1]"
   ]
  },
  {
   "cell_type": "code",
   "execution_count": 25,
   "id": "4d1ae7e6",
   "metadata": {},
   "outputs": [
    {
     "data": {
      "text/plain": [
       "(817, 441)"
      ]
     },
     "execution_count": 25,
     "metadata": {},
     "output_type": "execute_result"
    }
   ],
   "source": [
    "training_size, test_size"
   ]
  },
  {
   "cell_type": "code",
   "execution_count": 31,
   "id": "1ba4cedc",
   "metadata": {},
   "outputs": [],
   "source": [
    "# convert an array of values into a dataset matrix\n",
    "#import numpy as np\n",
    "def create_dataset(dataset, time_step=1):\n",
    "\tdataX, dataY = [], []\n",
    "\tfor i in range(len(dataset)-time_step-1):\n",
    "\t\ta = dataset[i:(i+time_step), 0]   ###i=0, 0,1,2,3-----99   100\n",
    "\t\tdataX.append(a)\n",
    "\t\tdataY.append(dataset[i + time_step, 0])\n",
    "\treturn np.array(dataX), np.array(dataY)"
   ]
  },
  {
   "cell_type": "code",
   "execution_count": 32,
   "id": "71bb768f",
   "metadata": {},
   "outputs": [],
   "source": [
    "# reshape into X=t,t+1,t+2,t+3 and Y=t+4\n",
    "time_step = 100\n",
    "X_train, y_train = create_dataset(train_data, time_step)\n",
    "X_test, ytest = create_dataset(test_data, time_step)"
   ]
  },
  {
   "cell_type": "code",
   "execution_count": 60,
   "id": "d936b554",
   "metadata": {},
   "outputs": [
    {
     "name": "stdout",
     "output_type": "stream",
     "text": [
      "(716, 100)\n",
      "(716,)\n"
     ]
    },
    {
     "data": {
      "text/plain": [
       "(None, None)"
      ]
     },
     "execution_count": 60,
     "metadata": {},
     "output_type": "execute_result"
    }
   ],
   "source": [
    "print(X_train.shape), print(y_train.shape)"
   ]
  },
  {
   "cell_type": "code",
   "execution_count": 61,
   "id": "282210c5",
   "metadata": {
    "scrolled": false
   },
   "outputs": [
    {
     "name": "stdout",
     "output_type": "stream",
     "text": [
      "(340, 100)\n",
      "(340,)\n"
     ]
    },
    {
     "data": {
      "text/plain": [
       "(None, None)"
      ]
     },
     "execution_count": 61,
     "metadata": {},
     "output_type": "execute_result"
    }
   ],
   "source": [
    "print(X_test.shape), print(ytest.shape)"
   ]
  },
  {
   "cell_type": "code",
   "execution_count": 62,
   "id": "f35bf327",
   "metadata": {
    "scrolled": false
   },
   "outputs": [],
   "source": [
    "# reshape input to be [samples, time steps, features] which is required for LSTM\n",
    "X_train =X_train.reshape(X_train.shape[0],X_train.shape[1] , 1)\n",
    "X_test = X_test.reshape(X_test.shape[0],X_test.shape[1] , 1)"
   ]
  },
  {
   "cell_type": "code",
   "execution_count": 64,
   "id": "06cd45e6",
   "metadata": {
    "scrolled": true
   },
   "outputs": [],
   "source": [
    "### Create the Stacked LSTM model\n",
    "from tensorflow.keras.models import Sequential\n",
    "from tensorflow.keras.layers import Dense\n",
    "from tensorflow.keras.layers import LSTM"
   ]
  },
  {
   "cell_type": "code",
   "execution_count": 65,
   "id": "6c44e03f",
   "metadata": {},
   "outputs": [],
   "source": [
    "model=Sequential()\n",
    "model.add(LSTM(50,return_sequences=True,input_shape=(100,1)))\n",
    "model.add(LSTM(50,return_sequences=True))\n",
    "model.add(LSTM(50))\n",
    "model.add(Dense(1))\n",
    "model.compile(loss='mean_squared_error',optimizer='adam')"
   ]
  },
  {
   "cell_type": "code",
   "execution_count": 66,
   "id": "35bd43a0",
   "metadata": {},
   "outputs": [
    {
     "name": "stdout",
     "output_type": "stream",
     "text": [
      "Model: \"sequential\"\n",
      "_________________________________________________________________\n",
      "Layer (type)                 Output Shape              Param #   \n",
      "=================================================================\n",
      "lstm (LSTM)                  (None, 100, 50)           10400     \n",
      "_________________________________________________________________\n",
      "lstm_1 (LSTM)                (None, 100, 50)           20200     \n",
      "_________________________________________________________________\n",
      "lstm_2 (LSTM)                (None, 50)                20200     \n",
      "_________________________________________________________________\n",
      "dense (Dense)                (None, 1)                 51        \n",
      "=================================================================\n",
      "Total params: 50,851\n",
      "Trainable params: 50,851\n",
      "Non-trainable params: 0\n",
      "_________________________________________________________________\n"
     ]
    }
   ],
   "source": [
    "model.summary()"
   ]
  },
  {
   "cell_type": "code",
   "execution_count": 67,
   "id": "8a3dadb4",
   "metadata": {},
   "outputs": [
    {
     "name": "stdout",
     "output_type": "stream",
     "text": [
      "Epoch 1/150\n",
      "12/12 [==============================] - 12s 339ms/step - loss: 0.0132 - val_loss: 0.0259\n",
      "Epoch 2/150\n",
      "12/12 [==============================] - 3s 215ms/step - loss: 0.0032 - val_loss: 0.0227\n",
      "Epoch 3/150\n",
      "12/12 [==============================] - 3s 215ms/step - loss: 0.0014 - val_loss: 0.0206\n",
      "Epoch 4/150\n",
      "12/12 [==============================] - 3s 214ms/step - loss: 6.8839e-04 - val_loss: 0.0228\n",
      "Epoch 5/150\n",
      "12/12 [==============================] - 3s 226ms/step - loss: 5.3077e-04 - val_loss: 0.0232-\n",
      "Epoch 6/150\n",
      "12/12 [==============================] - 3s 215ms/step - loss: 4.7302e-04 - val_loss: 0.0225\n",
      "Epoch 7/150\n",
      "12/12 [==============================] - 3s 224ms/step - loss: 4.7234e-04 - val_loss: 0.0214\n",
      "Epoch 8/150\n",
      "12/12 [==============================] - 3s 225ms/step - loss: 4.4630e-04 - val_loss: 0.0228\n",
      "Epoch 9/150\n",
      "12/12 [==============================] - 3s 219ms/step - loss: 4.3575e-04 - val_loss: 0.0232\n",
      "Epoch 10/150\n",
      "12/12 [==============================] - 3s 214ms/step - loss: 4.0760e-04 - val_loss: 0.0232\n",
      "Epoch 11/150\n",
      "12/12 [==============================] - 3s 217ms/step - loss: 3.9182e-04 - val_loss: 0.0227\n",
      "Epoch 12/150\n",
      "12/12 [==============================] - 3s 222ms/step - loss: 3.8356e-04 - val_loss: 0.0233\n",
      "Epoch 13/150\n",
      "12/12 [==============================] - 3s 219ms/step - loss: 3.6649e-04 - val_loss: 0.0230\n",
      "Epoch 14/150\n",
      "12/12 [==============================] - 3s 215ms/step - loss: 3.4982e-04 - val_loss: 0.0214\n",
      "Epoch 15/150\n",
      "12/12 [==============================] - 3s 214ms/step - loss: 3.4440e-04 - val_loss: 0.0228\n",
      "Epoch 16/150\n",
      "12/12 [==============================] - 3s 214ms/step - loss: 3.2838e-04 - val_loss: 0.0228\n",
      "Epoch 17/150\n",
      "12/12 [==============================] - 3s 213ms/step - loss: 3.2705e-04 - val_loss: 0.0208\n",
      "Epoch 18/150\n",
      "12/12 [==============================] - 3s 215ms/step - loss: 3.0908e-04 - val_loss: 0.0215\n",
      "Epoch 19/150\n",
      "12/12 [==============================] - 3s 214ms/step - loss: 3.0549e-04 - val_loss: 0.0231\n",
      "Epoch 20/150\n",
      "12/12 [==============================] - 3s 215ms/step - loss: 3.0785e-04 - val_loss: 0.0220\n",
      "Epoch 21/150\n",
      "12/12 [==============================] - 3s 226ms/step - loss: 3.0212e-04 - val_loss: 0.0211\n",
      "Epoch 22/150\n",
      "12/12 [==============================] - 3s 224ms/step - loss: 3.0479e-04 - val_loss: 0.0194\n",
      "Epoch 23/150\n",
      "12/12 [==============================] - 3s 221ms/step - loss: 2.9709e-04 - val_loss: 0.0179\n",
      "Epoch 24/150\n",
      "12/12 [==============================] - 3s 217ms/step - loss: 3.0034e-04 - val_loss: 0.0203\n",
      "Epoch 25/150\n",
      "12/12 [==============================] - 3s 215ms/step - loss: 3.1176e-04 - val_loss: 0.0172\n",
      "Epoch 26/150\n",
      "12/12 [==============================] - 3s 212ms/step - loss: 3.2252e-04 - val_loss: 0.0187\n",
      "Epoch 27/150\n",
      "12/12 [==============================] - 3s 219ms/step - loss: 2.8328e-04 - val_loss: 0.0177\n",
      "Epoch 28/150\n",
      "12/12 [==============================] - 3s 214ms/step - loss: 2.7088e-04 - val_loss: 0.0177\n",
      "Epoch 29/150\n",
      "12/12 [==============================] - 3s 215ms/step - loss: 2.6982e-04 - val_loss: 0.0169\n",
      "Epoch 30/150\n",
      "12/12 [==============================] - 3s 214ms/step - loss: 2.6245e-04 - val_loss: 0.0169\n",
      "Epoch 31/150\n",
      "12/12 [==============================] - 3s 214ms/step - loss: 2.6634e-04 - val_loss: 0.0177\n",
      "Epoch 32/150\n",
      "12/12 [==============================] - 3s 215ms/step - loss: 2.7220e-04 - val_loss: 0.0164\n",
      "Epoch 33/150\n",
      "12/12 [==============================] - 3s 215ms/step - loss: 2.9301e-04 - val_loss: 0.0168\n",
      "Epoch 34/150\n",
      "12/12 [==============================] - 3s 217ms/step - loss: 2.6123e-04 - val_loss: 0.0168\n",
      "Epoch 35/150\n",
      "12/12 [==============================] - 3s 214ms/step - loss: 2.4575e-04 - val_loss: 0.0170\n",
      "Epoch 36/150\n",
      "12/12 [==============================] - 3s 214ms/step - loss: 2.5227e-04 - val_loss: 0.0159\n",
      "Epoch 37/150\n",
      "12/12 [==============================] - 3s 214ms/step - loss: 2.4890e-04 - val_loss: 0.0163\n",
      "Epoch 38/150\n",
      "12/12 [==============================] - 3s 215ms/step - loss: 2.3806e-04 - val_loss: 0.0152\n",
      "Epoch 39/150\n",
      "12/12 [==============================] - 3s 212ms/step - loss: 2.3493e-04 - val_loss: 0.0141\n",
      "Epoch 40/150\n",
      "12/12 [==============================] - 3s 214ms/step - loss: 2.8688e-04 - val_loss: 0.0150\n",
      "Epoch 41/150\n",
      "12/12 [==============================] - 3s 215ms/step - loss: 2.5342e-04 - val_loss: 0.0140\n",
      "Epoch 42/150\n",
      "12/12 [==============================] - 3s 220ms/step - loss: 2.3876e-04 - val_loss: 0.0138\n",
      "Epoch 43/150\n",
      "12/12 [==============================] - 3s 212ms/step - loss: 2.2614e-04 - val_loss: 0.0140\n",
      "Epoch 44/150\n",
      "12/12 [==============================] - 3s 214ms/step - loss: 2.2081e-04 - val_loss: 0.0130\n",
      "Epoch 45/150\n",
      "12/12 [==============================] - 3s 214ms/step - loss: 2.4200e-04 - val_loss: 0.0126\n",
      "Epoch 46/150\n",
      "12/12 [==============================] - 3s 214ms/step - loss: 2.2053e-04 - val_loss: 0.0130\n",
      "Epoch 47/150\n",
      "12/12 [==============================] - 3s 219ms/step - loss: 2.1454e-04 - val_loss: 0.0128\n",
      "Epoch 48/150\n",
      "12/12 [==============================] - 3s 214ms/step - loss: 2.1515e-04 - val_loss: 0.0125\n",
      "Epoch 49/150\n",
      "12/12 [==============================] - 3s 212ms/step - loss: 2.3225e-04 - val_loss: 0.0124\n",
      "Epoch 50/150\n",
      "12/12 [==============================] - 3s 225ms/step - loss: 2.1449e-04 - val_loss: 0.0117\n",
      "Epoch 51/150\n",
      "12/12 [==============================] - 3s 220ms/step - loss: 2.1198e-04 - val_loss: 0.0116\n",
      "Epoch 52/150\n",
      "12/12 [==============================] - 3s 226ms/step - loss: 2.2001e-04 - val_loss: 0.0125\n",
      "Epoch 53/150\n",
      "12/12 [==============================] - 3s 227ms/step - loss: 2.1173e-04 - val_loss: 0.0114\n",
      "Epoch 54/150\n",
      "12/12 [==============================] - 3s 230ms/step - loss: 2.2684e-04 - val_loss: 0.0102\n",
      "Epoch 55/150\n",
      "12/12 [==============================] - 3s 220ms/step - loss: 2.1422e-04 - val_loss: 0.0110\n",
      "Epoch 56/150\n",
      "12/12 [==============================] - 3s 226ms/step - loss: 2.2274e-04 - val_loss: 0.0110\n",
      "Epoch 57/150\n",
      "12/12 [==============================] - 3s 222ms/step - loss: 2.0094e-04 - val_loss: 0.0105\n",
      "Epoch 58/150\n",
      "12/12 [==============================] - 3s 231ms/step - loss: 2.0197e-04 - val_loss: 0.0115\n",
      "Epoch 59/150\n",
      "12/12 [==============================] - 3s 230ms/step - loss: 2.3523e-04 - val_loss: 0.0105\n",
      "Epoch 60/150\n",
      "12/12 [==============================] - 3s 230ms/step - loss: 1.9604e-04 - val_loss: 0.0098\n",
      "Epoch 61/150\n",
      "12/12 [==============================] - 3s 226ms/step - loss: 1.8936e-04 - val_loss: 0.0102\n",
      "Epoch 62/150\n",
      "12/12 [==============================] - 3s 216ms/step - loss: 2.0357e-04 - val_loss: 0.0101\n",
      "Epoch 63/150\n",
      "12/12 [==============================] - 3s 213ms/step - loss: 1.9339e-04 - val_loss: 0.0098\n",
      "Epoch 64/150\n",
      "12/12 [==============================] - 4s 335ms/step - loss: 1.8928e-04 - val_loss: 0.0097\n",
      "Epoch 65/150\n",
      "12/12 [==============================] - 3s 233ms/step - loss: 1.9242e-04 - val_loss: 0.0092\n",
      "Epoch 66/150\n",
      "12/12 [==============================] - 3s 233ms/step - loss: 1.8356e-04 - val_loss: 0.0093\n",
      "Epoch 67/150\n",
      "12/12 [==============================] - 3s 236ms/step - loss: 1.8032e-04 - val_loss: 0.0091\n",
      "Epoch 68/150\n",
      "12/12 [==============================] - 3s 238ms/step - loss: 2.0217e-04 - val_loss: 0.0091\n",
      "Epoch 69/150\n",
      "12/12 [==============================] - 3s 253ms/step - loss: 2.4209e-04 - val_loss: 0.0110\n",
      "Epoch 70/150\n",
      "12/12 [==============================] - 3s 257ms/step - loss: 2.4124e-04 - val_loss: 0.0089\n",
      "Epoch 71/150\n",
      "12/12 [==============================] - 3s 233ms/step - loss: 1.8163e-04 - val_loss: 0.0082\n",
      "Epoch 72/150\n",
      "12/12 [==============================] - 3s 239ms/step - loss: 1.7744e-04 - val_loss: 0.0085\n",
      "Epoch 73/150\n",
      "12/12 [==============================] - 3s 226ms/step - loss: 1.7486e-04 - val_loss: 0.0082\n",
      "Epoch 74/150\n",
      "12/12 [==============================] - 3s 233ms/step - loss: 1.7032e-04 - val_loss: 0.0084\n",
      "Epoch 75/150\n",
      "12/12 [==============================] - 3s 239ms/step - loss: 1.7508e-04 - val_loss: 0.0082\n",
      "Epoch 76/150\n",
      "12/12 [==============================] - 3s 218ms/step - loss: 1.7418e-04 - val_loss: 0.0078\n",
      "Epoch 77/150\n",
      "12/12 [==============================] - 3s 214ms/step - loss: 1.7510e-04 - val_loss: 0.0081\n",
      "Epoch 78/150\n",
      "12/12 [==============================] - 3s 230ms/step - loss: 1.6717e-04 - val_loss: 0.0080\n",
      "Epoch 79/150\n",
      "12/12 [==============================] - 3s 238ms/step - loss: 1.7095e-04 - val_loss: 0.0078\n",
      "Epoch 80/150\n",
      "12/12 [==============================] - 3s 233ms/step - loss: 1.6379e-04 - val_loss: 0.0077\n",
      "Epoch 81/150\n",
      "12/12 [==============================] - 3s 232ms/step - loss: 1.6490e-04 - val_loss: 0.0078\n",
      "Epoch 82/150\n",
      "12/12 [==============================] - 3s 224ms/step - loss: 1.5791e-04 - val_loss: 0.0077\n",
      "Epoch 83/150\n",
      "12/12 [==============================] - 3s 220ms/step - loss: 1.6125e-04 - val_loss: 0.0082\n",
      "Epoch 84/150\n",
      "12/12 [==============================] - 3s 220ms/step - loss: 1.6008e-04 - val_loss: 0.0075\n",
      "Epoch 85/150\n",
      "12/12 [==============================] - 3s 224ms/step - loss: 1.6174e-04 - val_loss: 0.0077\n",
      "Epoch 86/150\n",
      "12/12 [==============================] - 3s 228ms/step - loss: 1.7071e-04 - val_loss: 0.0078\n",
      "Epoch 87/150\n",
      "12/12 [==============================] - 3s 226ms/step - loss: 1.6041e-04 - val_loss: 0.0075\n",
      "Epoch 88/150\n",
      "12/12 [==============================] - 3s 227ms/step - loss: 1.5788e-04 - val_loss: 0.0072\n",
      "Epoch 89/150\n",
      "12/12 [==============================] - 3s 233ms/step - loss: 1.5642e-04 - val_loss: 0.0069\n",
      "Epoch 90/150\n",
      "12/12 [==============================] - 3s 217ms/step - loss: 1.5796e-04 - val_loss: 0.0068\n",
      "Epoch 91/150\n",
      "12/12 [==============================] - 3s 215ms/step - loss: 1.5996e-04 - val_loss: 0.0065\n",
      "Epoch 92/150\n",
      "12/12 [==============================] - 3s 214ms/step - loss: 1.8028e-04 - val_loss: 0.0062\n",
      "Epoch 93/150\n",
      "12/12 [==============================] - 3s 212ms/step - loss: 1.4778e-04 - val_loss: 0.0064\n",
      "Epoch 94/150\n",
      "12/12 [==============================] - 3s 212ms/step - loss: 1.4714e-04 - val_loss: 0.0065\n",
      "Epoch 95/150\n",
      "12/12 [==============================] - 3s 238ms/step - loss: 1.4247e-04 - val_loss: 0.0061\n",
      "Epoch 96/150\n",
      "12/12 [==============================] - 3s 242ms/step - loss: 1.5595e-04 - val_loss: 0.0065\n",
      "Epoch 97/150\n",
      "12/12 [==============================] - 3s 223ms/step - loss: 1.4202e-04 - val_loss: 0.0062\n",
      "Epoch 98/150\n",
      "12/12 [==============================] - 3s 217ms/step - loss: 1.3710e-04 - val_loss: 0.0061\n",
      "Epoch 99/150\n",
      "12/12 [==============================] - 3s 227ms/step - loss: 1.3779e-04 - val_loss: 0.0059\n",
      "Epoch 100/150\n",
      "12/12 [==============================] - 3s 224ms/step - loss: 1.5861e-04 - val_loss: 0.0057\n",
      "Epoch 101/150\n",
      "12/12 [==============================] - 3s 215ms/step - loss: 1.5201e-04 - val_loss: 0.0057\n",
      "Epoch 102/150\n",
      "12/12 [==============================] - 3s 217ms/step - loss: 1.7885e-04 - val_loss: 0.0054\n",
      "Epoch 103/150\n",
      "12/12 [==============================] - 3s 215ms/step - loss: 1.9667e-04 - val_loss: 0.0056\n",
      "Epoch 104/150\n",
      "12/12 [==============================] - 3s 224ms/step - loss: 1.8037e-04 - val_loss: 0.0059\n",
      "Epoch 105/150\n",
      "12/12 [==============================] - 3s 233ms/step - loss: 1.4623e-04 - val_loss: 0.0061\n",
      "Epoch 106/150\n",
      "12/12 [==============================] - 3s 239ms/step - loss: 1.3300e-04 - val_loss: 0.0056\n",
      "Epoch 107/150\n",
      "12/12 [==============================] - 3s 219ms/step - loss: 1.3304e-04 - val_loss: 0.0061\n",
      "Epoch 108/150\n",
      "12/12 [==============================] - 3s 217ms/step - loss: 1.3003e-04 - val_loss: 0.0055\n",
      "Epoch 109/150\n",
      "12/12 [==============================] - 3s 215ms/step - loss: 1.2662e-04 - val_loss: 0.0057\n",
      "Epoch 110/150\n",
      "12/12 [==============================] - 3s 219ms/step - loss: 1.3949e-04 - val_loss: 0.0058\n",
      "Epoch 111/150\n",
      "12/12 [==============================] - 3s 217ms/step - loss: 1.3766e-04 - val_loss: 0.0056\n",
      "Epoch 112/150\n",
      "12/12 [==============================] - 3s 212ms/step - loss: 1.2258e-04 - val_loss: 0.0053\n",
      "Epoch 113/150\n",
      "12/12 [==============================] - 3s 214ms/step - loss: 1.3029e-04 - val_loss: 0.0052\n",
      "Epoch 114/150\n",
      "12/12 [==============================] - 3s 242ms/step - loss: 1.3326e-04 - val_loss: 0.0050\n",
      "Epoch 115/150\n",
      "12/12 [==============================] - 3s 213ms/step - loss: 1.2542e-04 - val_loss: 0.0052\n",
      "Epoch 116/150\n",
      "12/12 [==============================] - 3s 213ms/step - loss: 1.1887e-04 - val_loss: 0.0050\n",
      "Epoch 117/150\n",
      "12/12 [==============================] - 3s 222ms/step - loss: 1.3438e-04 - val_loss: 0.0048\n",
      "Epoch 118/150\n",
      "12/12 [==============================] - 3s 218ms/step - loss: 1.2513e-04 - val_loss: 0.0047\n",
      "Epoch 119/150\n",
      "12/12 [==============================] - 3s 228ms/step - loss: 1.2775e-04 - val_loss: 0.0049\n",
      "Epoch 120/150\n",
      "12/12 [==============================] - 3s 223ms/step - loss: 1.1615e-04 - val_loss: 0.0046\n",
      "Epoch 121/150\n",
      "12/12 [==============================] - 3s 223ms/step - loss: 1.1934e-04 - val_loss: 0.0048\n",
      "Epoch 122/150\n",
      "12/12 [==============================] - 3s 217ms/step - loss: 1.3758e-04 - val_loss: 0.0046\n",
      "Epoch 123/150\n",
      "12/12 [==============================] - 3s 215ms/step - loss: 1.2790e-04 - val_loss: 0.0046\n",
      "Epoch 124/150\n",
      "12/12 [==============================] - 3s 216ms/step - loss: 1.1162e-04 - val_loss: 0.0046\n",
      "Epoch 125/150\n",
      "12/12 [==============================] - 3s 217ms/step - loss: 1.1286e-04 - val_loss: 0.0047\n",
      "Epoch 126/150\n",
      "12/12 [==============================] - 3s 214ms/step - loss: 1.1272e-04 - val_loss: 0.0046\n",
      "Epoch 127/150\n",
      "12/12 [==============================] - 3s 217ms/step - loss: 1.0930e-04 - val_loss: 0.0045\n",
      "Epoch 128/150\n",
      "12/12 [==============================] - 3s 213ms/step - loss: 1.1043e-04 - val_loss: 0.0045\n",
      "Epoch 129/150\n",
      "12/12 [==============================] - 3s 214ms/step - loss: 1.1205e-04 - val_loss: 0.0045\n",
      "Epoch 130/150\n",
      "12/12 [==============================] - 3s 213ms/step - loss: 1.2175e-04 - val_loss: 0.0046\n",
      "Epoch 131/150\n",
      "12/12 [==============================] - 3s 214ms/step - loss: 1.1703e-04 - val_loss: 0.0044\n",
      "Epoch 132/150\n",
      "12/12 [==============================] - 3s 214ms/step - loss: 1.0633e-04 - val_loss: 0.0042\n",
      "Epoch 133/150\n",
      "12/12 [==============================] - 3s 213ms/step - loss: 1.1593e-04 - val_loss: 0.0041\n",
      "Epoch 134/150\n",
      "12/12 [==============================] - 2s 211ms/step - loss: 1.2208e-04 - val_loss: 0.0039\n",
      "Epoch 135/150\n",
      "12/12 [==============================] - 3s 213ms/step - loss: 1.8794e-04 - val_loss: 0.0038\n",
      "Epoch 136/150\n",
      "12/12 [==============================] - 3s 211ms/step - loss: 1.7056e-04 - val_loss: 0.0038\n",
      "Epoch 137/150\n",
      "12/12 [==============================] - 3s 225ms/step - loss: 1.4063e-04 - val_loss: 0.0038\n",
      "Epoch 138/150\n",
      "12/12 [==============================] - 3s 248ms/step - loss: 1.2303e-04 - val_loss: 0.0039\n",
      "Epoch 139/150\n",
      "12/12 [==============================] - 3s 226ms/step - loss: 1.0896e-04 - val_loss: 0.0041\n",
      "Epoch 140/150\n",
      "12/12 [==============================] - 3s 217ms/step - loss: 1.0911e-04 - val_loss: 0.0040\n",
      "Epoch 141/150\n",
      "12/12 [==============================] - 3s 217ms/step - loss: 1.0344e-04 - val_loss: 0.0042\n",
      "Epoch 142/150\n",
      "12/12 [==============================] - 3s 218ms/step - loss: 1.1360e-04 - val_loss: 0.0039\n",
      "Epoch 143/150\n",
      "12/12 [==============================] - 3s 220ms/step - loss: 1.1360e-04 - val_loss: 0.0040\n",
      "Epoch 144/150\n",
      "12/12 [==============================] - 3s 219ms/step - loss: 1.0856e-04 - val_loss: 0.0039\n",
      "Epoch 145/150\n",
      "12/12 [==============================] - 3s 224ms/step - loss: 1.0791e-04 - val_loss: 0.0037\n",
      "Epoch 146/150\n",
      "12/12 [==============================] - 3s 220ms/step - loss: 1.0245e-04 - val_loss: 0.0038\n",
      "Epoch 147/150\n",
      "12/12 [==============================] - 3s 216ms/step - loss: 1.0339e-04 - val_loss: 0.0040\n",
      "Epoch 148/150\n",
      "12/12 [==============================] - 3s 219ms/step - loss: 1.1313e-04 - val_loss: 0.0038\n",
      "Epoch 149/150\n",
      "12/12 [==============================] - 3s 220ms/step - loss: 1.2428e-04 - val_loss: 0.0042\n",
      "Epoch 150/150\n",
      "12/12 [==============================] - 3s 220ms/step - loss: 1.0859e-04 - val_loss: 0.0037\n"
     ]
    },
    {
     "data": {
      "text/plain": [
       "<keras.callbacks.History at 0x2ec37f720d0>"
      ]
     },
     "execution_count": 67,
     "metadata": {},
     "output_type": "execute_result"
    }
   ],
   "source": [
    "#Training the model\n",
    "model.fit(X_train, y_train, validation_data = (X_test, ytest), epochs=150, batch_size=60, verbose=1)"
   ]
  },
  {
   "cell_type": "code",
   "execution_count": 112,
   "id": "a9fa8bee",
   "metadata": {},
   "outputs": [],
   "source": [
    "### Lets Do the prediction and check performance metrics\n",
    "train_predict = model.predict(X_train)\n",
    "test_predict = model.predict(X_test)\n",
    "#train_predict"
   ]
  },
  {
   "cell_type": "code",
   "execution_count": 79,
   "id": "a1551ce7",
   "metadata": {},
   "outputs": [],
   "source": [
    "##Transform back to original form\n",
    "train_predict=scaler.inverse_transform(train_predict)\n",
    "test_predict=scaler.inverse_transform(test_predict)"
   ]
  },
  {
   "cell_type": "code",
   "execution_count": 80,
   "id": "7af4275e",
   "metadata": {},
   "outputs": [
    {
     "data": {
      "text/plain": [
       "0.23030406157227098"
      ]
     },
     "execution_count": 80,
     "metadata": {},
     "output_type": "execute_result"
    }
   ],
   "source": [
    "### Calculate RMSE performance metrics\n",
    "import math\n",
    "from sklearn.metrics import mean_squared_error\n",
    "math.sqrt(mean_squared_error(y_train,train_predict))"
   ]
  },
  {
   "cell_type": "code",
   "execution_count": 81,
   "id": "8f83ab9b",
   "metadata": {},
   "outputs": [
    {
     "data": {
      "text/plain": [
       "0.3246834280429048"
      ]
     },
     "execution_count": 81,
     "metadata": {},
     "output_type": "execute_result"
    }
   ],
   "source": [
    "### Test Data RMSE\n",
    "math.sqrt(mean_squared_error(ytest,test_predict))"
   ]
  },
  {
   "cell_type": "code",
   "execution_count": 110,
   "id": "4f516f72",
   "metadata": {},
   "outputs": [
    {
     "data": {
      "text/plain": [
       "1258"
      ]
     },
     "execution_count": 110,
     "metadata": {},
     "output_type": "execute_result"
    }
   ],
   "source": [
    "len(df1)"
   ]
  },
  {
   "cell_type": "code",
   "execution_count": 103,
   "id": "e35899ff",
   "metadata": {},
   "outputs": [
    {
     "data": {
      "image/png": "[encoded data removed]",
      "text/plain": [
       "<Figure size 432x288 with 1 Axes>"
      ]
     },
     "metadata": {
      "needs_background": "light"
     },
     "output_type": "display_data"
    }
   ],
   "source": [
    "### Plotting \n",
    "# shift train predictions for plotting\n",
    "look_back=100\n",
    "trainPredictPlot = np.empty_like(df1)\n",
    "trainPredictPlot[:, :] = np.nan\n",
    "trainPredictPlot[look_back:len(train_predict)+look_back, :] = train_predict\n",
    "\n",
    "# shift test predictions for plotting\n",
    "testPredictPlot = np.empty_like(df1)\n",
    "testPredictPlot[:, :] = np.nan\n",
    "testPredictPlot[len(train_predict)+(look_back*2)+1:len(df1)-1, :] = test_predict\n",
    "\n",
    "# plot baseline and predictions\n",
    "plt.plot(scaler.inverse_transform(df1))\n",
    "plt.plot(trainPredictPlot)\n",
    "plt.plot(testPredictPlot)\n",
    "plt.show()"
   ]
  },
  {
   "cell_type": "code",
   "execution_count": 107,
   "id": "352e7576",
   "metadata": {
    "scrolled": true
   },
   "outputs": [
    {
     "data": {
      "text/plain": [
       "array([[0.05349918, 0.0509516 , 0.05404865, 0.06186623, 0.05976822,\n",
       "        0.06104201, 0.06513812, 0.06181627, 0.06641191, 0.07060792,\n",
       "        0.06990859, 0.06918427, 0.06843499, 0.07260602, 0.07647735,\n",
       "        0.07805085, 0.07882512, 0.08554373, 0.09068885, 0.0970578 ,\n",
       "        0.09373595, 0.09840651, 0.09688296, 0.09973026, 0.10849693,\n",
       "        0.10682352, 0.10160348, 0.09176283, 0.10100405, 0.09913083,\n",
       "        0.1026275 , 0.10702333, 0.10809731, 0.10255258, 0.09808182,\n",
       "        0.09973026, 0.10027973, 0.09943054, 0.10402618, 0.10300215,\n",
       "        0.10327689, 0.10097907, 0.10085419, 0.09963035, 0.10027973,\n",
       "        0.10784754, 0.10837205, 0.11341725, 0.11109446, 0.10152855,\n",
       "        0.10237774, 0.10609921, 0.1098956 , 0.10967081, 0.1065238 ,\n",
       "        0.10447575, 0.10712323, 0.11841251, 0.11519057, 0.11688896,\n",
       "        0.11973625, 0.12135971, 0.12732904, 0.12338279, 0.12078525,\n",
       "        0.10804736, 0.10949598, 0.10592437, 0.10819721, 0.10759778,\n",
       "        0.10077926, 0.09298666, 0.0942105 , 0.10025476, 0.10270243,\n",
       "        0.10292722, 0.0990559 , 0.09041411, 0.09271192, 0.08939008,\n",
       "        0.09226235, 0.08349568, 0.088416  , 0.09063889, 0.09386083,\n",
       "        0.09288676, 0.09266197, 0.08941506, 0.08791648, 0.09503472,\n",
       "        0.09773215, 0.1020031 , 0.10752285, 0.10877167, 0.10932114,\n",
       "        0.10734802, 0.10722314, 0.10892152, 0.10774764, 0.11703881]])"
      ]
     },
     "execution_count": 107,
     "metadata": {},
     "output_type": "execute_result"
    }
   ],
   "source": [
    "x_input=test_data[341:].reshape(1,-1)\n",
    "x_input"
   ]
  },
  {
   "cell_type": "code",
   "execution_count": 115,
   "id": "2dddb7fa",
   "metadata": {
    "scrolled": true
   },
   "outputs": [
    {
     "data": {
      "text/plain": [
       "100"
      ]
     },
     "execution_count": 115,
     "metadata": {},
     "output_type": "execute_result"
    }
   ],
   "source": [
    "temp_input=list(x_input)\n",
    "temp_input=temp_input[0].tolist()\n",
    "len(temp_input)"
   ]
  },
  {
   "cell_type": "code",
   "execution_count": 116,
   "id": "4ece012e",
   "metadata": {},
   "outputs": [
    {
     "name": "stdout",
     "output_type": "stream",
     "text": [
      "[0.11323313]\n",
      "101\n",
      "1 day input [0.0509516  0.05404865 0.06186623 0.05976822 0.06104201 0.06513812\n",
      " 0.06181627 0.06641191 0.07060792 0.06990859 0.06918427 0.06843499\n",
      " 0.07260602 0.07647735 0.07805085 0.07882512 0.08554373 0.09068885\n",
      " 0.0970578  0.09373595 0.09840651 0.09688296 0.09973026 0.10849693\n",
      " 0.10682352 0.10160348 0.09176283 0.10100405 0.09913083 0.1026275\n",
      " 0.10702333 0.10809731 0.10255258 0.09808182 0.09973026 0.10027973\n",
      " 0.09943054 0.10402618 0.10300215 0.10327689 0.10097907 0.10085419\n",
      " 0.09963035 0.10027973 0.10784754 0.10837205 0.11341725 0.11109446\n",
      " 0.10152855 0.10237774 0.10609921 0.1098956  0.10967081 0.1065238\n",
      " 0.10447575 0.10712323 0.11841251 0.11519057 0.11688896 0.11973625\n",
      " 0.12135971 0.12732904 0.12338279 0.12078525 0.10804736 0.10949598\n",
      " 0.10592437 0.10819721 0.10759778 0.10077926 0.09298666 0.0942105\n",
      " 0.10025476 0.10270243 0.10292722 0.0990559  0.09041411 0.09271192\n",
      " 0.08939008 0.09226235 0.08349568 0.088416   0.09063889 0.09386083\n",
      " 0.09288676 0.09266197 0.08941506 0.08791648 0.09503472 0.09773215\n",
      " 0.1020031  0.10752285 0.10877167 0.10932114 0.10734802 0.10722314\n",
      " 0.10892152 0.10774764 0.11703881 0.11323313]\n",
      "1 day output [[0.11467011]]\n",
      "2 day input [0.05404865 0.06186623 0.05976822 0.06104201 0.06513812 0.06181627\n",
      " 0.06641191 0.07060792 0.06990859 0.06918427 0.06843499 0.07260602\n",
      " 0.07647735 0.07805085 0.07882512 0.08554373 0.09068885 0.0970578\n",
      " 0.09373595 0.09840651 0.09688296 0.09973026 0.10849693 0.10682352\n",
      " 0.10160348 0.09176283 0.10100405 0.09913083 0.1026275  0.10702333\n",
      " 0.10809731 0.10255258 0.09808182 0.09973026 0.10027973 0.09943054\n",
      " 0.10402618 0.10300215 0.10327689 0.10097907 0.10085419 0.09963035\n",
      " 0.10027973 0.10784754 0.10837205 0.11341725 0.11109446 0.10152855\n",
      " 0.10237774 0.10609921 0.1098956  0.10967081 0.1065238  0.10447575\n",
      " 0.10712323 0.11841251 0.11519057 0.11688896 0.11973625 0.12135971\n",
      " 0.12732904 0.12338279 0.12078525 0.10804736 0.10949598 0.10592437\n",
      " 0.10819721 0.10759778 0.10077926 0.09298666 0.0942105  0.10025476\n",
      " 0.10270243 0.10292722 0.0990559  0.09041411 0.09271192 0.08939008\n",
      " 0.09226235 0.08349568 0.088416   0.09063889 0.09386083 0.09288676\n",
      " 0.09266197 0.08941506 0.08791648 0.09503472 0.09773215 0.1020031\n",
      " 0.10752285 0.10877167 0.10932114 0.10734802 0.10722314 0.10892152\n",
      " 0.10774764 0.11703881 0.11323313 0.11467011]\n",
      "2 day output [[0.1161134]]\n",
      "3 day input [0.06186623 0.05976822 0.06104201 0.06513812 0.06181627 0.06641191\n",
      " 0.07060792 0.06990859 0.06918427 0.06843499 0.07260602 0.07647735\n",
      " 0.07805085 0.07882512 0.08554373 0.09068885 0.0970578  0.09373595\n",
      " 0.09840651 0.09688296 0.09973026 0.10849693 0.10682352 0.10160348\n",
      " 0.09176283 0.10100405 0.09913083 0.1026275  0.10702333 0.10809731\n",
      " 0.10255258 0.09808182 0.09973026 0.10027973 0.09943054 0.10402618\n",
      " 0.10300215 0.10327689 0.10097907 0.10085419 0.09963035 0.10027973\n",
      " 0.10784754 0.10837205 0.11341725 0.11109446 0.10152855 0.10237774\n",
      " 0.10609921 0.1098956  0.10967081 0.1065238  0.10447575 0.10712323\n",
      " 0.11841251 0.11519057 0.11688896 0.11973625 0.12135971 0.12732904\n",
      " 0.12338279 0.12078525 0.10804736 0.10949598 0.10592437 0.10819721\n",
      " 0.10759778 0.10077926 0.09298666 0.0942105  0.10025476 0.10270243\n",
      " 0.10292722 0.0990559  0.09041411 0.09271192 0.08939008 0.09226235\n",
      " 0.08349568 0.088416   0.09063889 0.09386083 0.09288676 0.09266197\n",
      " 0.08941506 0.08791648 0.09503472 0.09773215 0.1020031  0.10752285\n",
      " 0.10877167 0.10932114 0.10734802 0.10722314 0.10892152 0.10774764\n",
      " 0.11703881 0.11323313 0.11467011 0.1161134 ]\n",
      "3 day output [[0.11750883]]\n",
      "4 day input [0.05976822 0.06104201 0.06513812 0.06181627 0.06641191 0.07060792\n",
      " 0.06990859 0.06918427 0.06843499 0.07260602 0.07647735 0.07805085\n",
      " 0.07882512 0.08554373 0.09068885 0.0970578  0.09373595 0.09840651\n",
      " 0.09688296 0.09973026 0.10849693 0.10682352 0.10160348 0.09176283\n",
      " 0.10100405 0.09913083 0.1026275  0.10702333 0.10809731 0.10255258\n",
      " 0.09808182 0.09973026 0.10027973 0.09943054 0.10402618 0.10300215\n",
      " 0.10327689 0.10097907 0.10085419 0.09963035 0.10027973 0.10784754\n",
      " 0.10837205 0.11341725 0.11109446 0.10152855 0.10237774 0.10609921\n",
      " 0.1098956  0.10967081 0.1065238  0.10447575 0.10712323 0.11841251\n",
      " 0.11519057 0.11688896 0.11973625 0.12135971 0.12732904 0.12338279\n",
      " 0.12078525 0.10804736 0.10949598 0.10592437 0.10819721 0.10759778\n",
      " 0.10077926 0.09298666 0.0942105  0.10025476 0.10270243 0.10292722\n",
      " 0.0990559  0.09041411 0.09271192 0.08939008 0.09226235 0.08349568\n",
      " 0.088416   0.09063889 0.09386083 0.09288676 0.09266197 0.08941506\n",
      " 0.08791648 0.09503472 0.09773215 0.1020031  0.10752285 0.10877167\n",
      " 0.10932114 0.10734802 0.10722314 0.10892152 0.10774764 0.11703881\n",
      " 0.11323313 0.11467011 0.1161134  0.11750883]\n",
      "4 day output [[0.11887803]]\n",
      "5 day input [0.06104201 0.06513812 0.06181627 0.06641191 0.07060792 0.06990859\n",
      " 0.06918427 0.06843499 0.07260602 0.07647735 0.07805085 0.07882512\n",
      " 0.08554373 0.09068885 0.0970578  0.09373595 0.09840651 0.09688296\n",
      " 0.09973026 0.10849693 0.10682352 0.10160348 0.09176283 0.10100405\n",
      " 0.09913083 0.1026275  0.10702333 0.10809731 0.10255258 0.09808182\n",
      " 0.09973026 0.10027973 0.09943054 0.10402618 0.10300215 0.10327689\n",
      " 0.10097907 0.10085419 0.09963035 0.10027973 0.10784754 0.10837205\n",
      " 0.11341725 0.11109446 0.10152855 0.10237774 0.10609921 0.1098956\n",
      " 0.10967081 0.1065238  0.10447575 0.10712323 0.11841251 0.11519057\n",
      " 0.11688896 0.11973625 0.12135971 0.12732904 0.12338279 0.12078525\n",
      " 0.10804736 0.10949598 0.10592437 0.10819721 0.10759778 0.10077926\n",
      " 0.09298666 0.0942105  0.10025476 0.10270243 0.10292722 0.0990559\n",
      " 0.09041411 0.09271192 0.08939008 0.09226235 0.08349568 0.088416\n",
      " 0.09063889 0.09386083 0.09288676 0.09266197 0.08941506 0.08791648\n",
      " 0.09503472 0.09773215 0.1020031  0.10752285 0.10877167 0.10932114\n",
      " 0.10734802 0.10722314 0.10892152 0.10774764 0.11703881 0.11323313\n",
      " 0.11467011 0.1161134  0.11750883 0.11887803]\n",
      "5 day output [[0.12024458]]\n",
      "6 day input [0.06513812 0.06181627 0.06641191 0.07060792 0.06990859 0.06918427\n",
      " 0.06843499 0.07260602 0.07647735 0.07805085 0.07882512 0.08554373\n",
      " 0.09068885 0.0970578  0.09373595 0.09840651 0.09688296 0.09973026\n",
      " 0.10849693 0.10682352 0.10160348 0.09176283 0.10100405 0.09913083\n",
      " 0.1026275  0.10702333 0.10809731 0.10255258 0.09808182 0.09973026\n",
      " 0.10027973 0.09943054 0.10402618 0.10300215 0.10327689 0.10097907\n",
      " 0.10085419 0.09963035 0.10027973 0.10784754 0.10837205 0.11341725\n",
      " 0.11109446 0.10152855 0.10237774 0.10609921 0.1098956  0.10967081\n",
      " 0.1065238  0.10447575 0.10712323 0.11841251 0.11519057 0.11688896\n",
      " 0.11973625 0.12135971 0.12732904 0.12338279 0.12078525 0.10804736\n",
      " 0.10949598 0.10592437 0.10819721 0.10759778 0.10077926 0.09298666\n",
      " 0.0942105  0.10025476 0.10270243 0.10292722 0.0990559  0.09041411\n",
      " 0.09271192 0.08939008 0.09226235 0.08349568 0.088416   0.09063889\n",
      " 0.09386083 0.09288676 0.09266197 0.08941506 0.08791648 0.09503472\n",
      " 0.09773215 0.1020031  0.10752285 0.10877167 0.10932114 0.10734802\n",
      " 0.10722314 0.10892152 0.10774764 0.11703881 0.11323313 0.11467011\n",
      " 0.1161134  0.11750883 0.11887803 0.12024458]\n",
      "6 day output [[0.12161823]]\n",
      "7 day input [0.06181627 0.06641191 0.07060792 0.06990859 0.06918427 0.06843499\n",
      " 0.07260602 0.07647735 0.07805085 0.07882512 0.08554373 0.09068885\n",
      " 0.0970578  0.09373595 0.09840651 0.09688296 0.09973026 0.10849693\n",
      " 0.10682352 0.10160348 0.09176283 0.10100405 0.09913083 0.1026275\n",
      " 0.10702333 0.10809731 0.10255258 0.09808182 0.09973026 0.10027973\n",
      " 0.09943054 0.10402618 0.10300215 0.10327689 0.10097907 0.10085419\n",
      " 0.09963035 0.10027973 0.10784754 0.10837205 0.11341725 0.11109446\n",
      " 0.10152855 0.10237774 0.10609921 0.1098956  0.10967081 0.1065238\n",
      " 0.10447575 0.10712323 0.11841251 0.11519057 0.11688896 0.11973625\n",
      " 0.12135971 0.12732904 0.12338279 0.12078525 0.10804736 0.10949598\n",
      " 0.10592437 0.10819721 0.10759778 0.10077926 0.09298666 0.0942105\n",
      " 0.10025476 0.10270243 0.10292722 0.0990559  0.09041411 0.09271192\n",
      " 0.08939008 0.09226235 0.08349568 0.088416   0.09063889 0.09386083\n",
      " 0.09288676 0.09266197 0.08941506 0.08791648 0.09503472 0.09773215\n",
      " 0.1020031  0.10752285 0.10877167 0.10932114 0.10734802 0.10722314\n",
      " 0.10892152 0.10774764 0.11703881 0.11323313 0.11467011 0.1161134\n",
      " 0.11750883 0.11887803 0.12024458 0.12161823]\n",
      "7 day output [[0.12299851]]\n",
      "8 day input [0.06641191 0.07060792 0.06990859 0.06918427 0.06843499 0.07260602\n",
      " 0.07647735 0.07805085 0.07882512 0.08554373 0.09068885 0.0970578\n",
      " 0.09373595 0.09840651 0.09688296 0.09973026 0.10849693 0.10682352\n",
      " 0.10160348 0.09176283 0.10100405 0.09913083 0.1026275  0.10702333\n",
      " 0.10809731 0.10255258 0.09808182 0.09973026 0.10027973 0.09943054\n",
      " 0.10402618 0.10300215 0.10327689 0.10097907 0.10085419 0.09963035\n",
      " 0.10027973 0.10784754 0.10837205 0.11341725 0.11109446 0.10152855\n",
      " 0.10237774 0.10609921 0.1098956  0.10967081 0.1065238  0.10447575\n",
      " 0.10712323 0.11841251 0.11519057 0.11688896 0.11973625 0.12135971\n",
      " 0.12732904 0.12338279 0.12078525 0.10804736 0.10949598 0.10592437\n",
      " 0.10819721 0.10759778 0.10077926 0.09298666 0.0942105  0.10025476\n",
      " 0.10270243 0.10292722 0.0990559  0.09041411 0.09271192 0.08939008\n",
      " 0.09226235 0.08349568 0.088416   0.09063889 0.09386083 0.09288676\n",
      " 0.09266197 0.08941506 0.08791648 0.09503472 0.09773215 0.1020031\n",
      " 0.10752285 0.10877167 0.10932114 0.10734802 0.10722314 0.10892152\n",
      " 0.10774764 0.11703881 0.11323313 0.11467011 0.1161134  0.11750883\n",
      " 0.11887803 0.12024458 0.12161823 0.12299851]\n",
      "8 day output [[0.12438037]]\n",
      "9 day input [0.07060792 0.06990859 0.06918427 0.06843499 0.07260602 0.07647735\n",
      " 0.07805085 0.07882512 0.08554373 0.09068885 0.0970578  0.09373595\n",
      " 0.09840651 0.09688296 0.09973026 0.10849693 0.10682352 0.10160348\n",
      " 0.09176283 0.10100405 0.09913083 0.1026275  0.10702333 0.10809731\n",
      " 0.10255258 0.09808182 0.09973026 0.10027973 0.09943054 0.10402618\n",
      " 0.10300215 0.10327689 0.10097907 0.10085419 0.09963035 0.10027973\n",
      " 0.10784754 0.10837205 0.11341725 0.11109446 0.10152855 0.10237774\n",
      " 0.10609921 0.1098956  0.10967081 0.1065238  0.10447575 0.10712323\n",
      " 0.11841251 0.11519057 0.11688896 0.11973625 0.12135971 0.12732904\n",
      " 0.12338279 0.12078525 0.10804736 0.10949598 0.10592437 0.10819721\n",
      " 0.10759778 0.10077926 0.09298666 0.0942105  0.10025476 0.10270243\n",
      " 0.10292722 0.0990559  0.09041411 0.09271192 0.08939008 0.09226235\n",
      " 0.08349568 0.088416   0.09063889 0.09386083 0.09288676 0.09266197\n",
      " 0.08941506 0.08791648 0.09503472 0.09773215 0.1020031  0.10752285\n",
      " 0.10877167 0.10932114 0.10734802 0.10722314 0.10892152 0.10774764\n",
      " 0.11703881 0.11323313 0.11467011 0.1161134  0.11750883 0.11887803\n",
      " 0.12024458 0.12161823 0.12299851 0.12438037]\n",
      "9 day output [[0.12575781]]\n",
      "[[0.11323313415050507], [0.11467011272907257], [0.11611340194940567], [0.11750882863998413], [0.11887802928686142], [0.1202445775270462], [0.12161822617053986], [0.12299851328134537], [0.12438036501407623], [0.12575781345367432]]\n"
     ]
    }
   ],
   "source": [
    "# demonstrate prediction for next 10 days\n",
    "from numpy import array\n",
    "\n",
    "lst_output=[]\n",
    "n_steps=100\n",
    "i=0\n",
    "while(i<10):\n",
    "    \n",
    "    if(len(temp_input)>100):\n",
    "        #print(temp_input)\n",
    "        x_input=np.array(temp_input[1:])\n",
    "        print(\"{} day input {}\".format(i,x_input))\n",
    "        x_input=x_input.reshape(1,-1)\n",
    "        x_input = x_input.reshape((1, n_steps, 1))\n",
    "        #print(x_input)\n",
    "        yhat = model.predict(x_input, verbose=0)\n",
    "        print(\"{} day output {}\".format(i,yhat))\n",
    "        temp_input.extend(yhat[0].tolist())\n",
    "        temp_input=temp_input[1:]\n",
    "        #print(temp_input)\n",
    "        lst_output.extend(yhat.tolist())\n",
    "        i=i+1\n",
    "    else:\n",
    "        x_input = x_input.reshape((1, n_steps,1))\n",
    "        yhat = model.predict(x_input, verbose=0)\n",
    "        print(yhat[0])\n",
    "        temp_input.extend(yhat[0].tolist())\n",
    "        print(len(temp_input))\n",
    "        lst_output.extend(yhat.tolist())\n",
    "        i=i+1\n",
    "    \n",
    "\n",
    "print(lst_output)"
   ]
  },
  {
   "cell_type": "code",
   "execution_count": 117,
   "id": "65828a30",
   "metadata": {},
   "outputs": [],
   "source": [
    "day_new=np.arange(1,101)\n",
    "day_pred=np.arange(101,111)"
   ]
  },
  {
   "cell_type": "code",
   "execution_count": 118,
   "id": "b33bd43f",
   "metadata": {},
   "outputs": [
    {
     "data": {
      "text/plain": [
       "[<matplotlib.lines.Line2D at 0x2ec40ebf790>]"
      ]
     },
     "execution_count": 118,
     "metadata": {},
     "output_type": "execute_result"
    },
    {
     "data": {
      "image/png": "[encoded data removed]",
      "text/plain": [
       "<Figure size 432x288 with 1 Axes>"
      ]
     },
     "metadata": {
      "needs_background": "light"
     },
     "output_type": "display_data"
    }
   ],
   "source": [
    "plt.plot(day_new,scaler.inverse_transform(df1[1158:]))\n",
    "plt.plot(day_pred,scaler.inverse_transform(lst_output))"
   ]
  },
  {
   "cell_type": "code",
   "execution_count": 119,
   "id": "0dbb4a54",
   "metadata": {},
   "outputs": [
    {
     "data": {
      "text/plain": [
       "[<matplotlib.lines.Line2D at 0x2ec40eea910>]"
      ]
     },
     "execution_count": 119,
     "metadata": {},
     "output_type": "execute_result"
    },
    {
     "data": {
      "image/png": "[encoded data removed]",
      "text/plain": [
       "<Figure size 432x288 with 1 Axes>"
      ]
     },
     "metadata": {
      "needs_background": "light"
     },
     "output_type": "display_data"
    }
   ],
   "source": [
    "df3=df1.tolist()\n",
    "df3.extend(lst_output)\n",
    "plt.plot(df3[1200:])"
   ]
  },
  {
   "cell_type": "code",
   "execution_count": 120,
   "id": "8aceb4eb",
   "metadata": {},
   "outputs": [],
   "source": [
    "df3=scaler.inverse_transform(df3).tolist()"
   ]
  },
  {
   "cell_type": "code",
   "execution_count": 121,
   "id": "20871950",
   "metadata": {},
   "outputs": [
    {
     "data": {
      "text/plain": [
       "[<matplotlib.lines.Line2D at 0x2ec40f99100>]"
      ]
     },
     "execution_count": 121,
     "metadata": {},
     "output_type": "execute_result"
    },
    {
     "data": {
      "image/png": "[encoded data removed]",
      "text/plain": [
       "<Figure size 432x288 with 1 Axes>"
      ]
     },
     "metadata": {
      "needs_background": "light"
     },
     "output_type": "display_data"
    }
   ],
   "source": [
    "plt.plot(df3)"
   ]
  },
  {
   "cell_type": "code",
   "execution_count": null,
   "id": "78cd606b",
   "metadata": {},
   "outputs": [],
   "source": []
  },
  {
   "cell_type": "code",
   "execution_count": null,
   "id": "41f2a421",
   "metadata": {},
   "outputs": [],
   "source": []
  }
 ],
 "metadata": {
  "kernelspec": {
   "display_name": "Python 3",
   "language": "python",
   "name": "python3"
  },
  "language_info": {
   "codemirror_mode": {
    "name": "ipython",
    "version": 3
   },
   "file_extension": ".py",
   "mimetype": "text/x-python",
   "name": "python",
   "nbconvert_exporter": "python",
   "pygments_lexer": "ipython3",
   "version": "3.8.8"
  }
 },
 "nbformat": 4,
 "nbformat_minor": 5
}
